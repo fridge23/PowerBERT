{
  "nbformat": 4,
  "nbformat_minor": 0,
  "metadata": {
    "colab": {
      "name": "Untitled5.ipynb",
      "provenance": []
    },
    "kernelspec": {
      "name": "python3",
      "display_name": "Python 3"
    },
    "language_info": {
      "name": "python"
    }
  },
  "cells": [
    {
      "cell_type": "code",
      "source": [
        "from tensorflow.keras import layers\n",
        "import tensorflow_addons as tfa\n",
        "from tensorflow import keras\n",
        "import tensorflow as tf\n",
        "import pandas as pd\n",
        "import matplotlib.pyplot as plt\n",
        "import numpy as np\n",
        "import random\n",
        "import random\n",
        "import numpy as np\n",
        "import matplotlib.pyplot as plt\n",
        "import tensorflow as tf\n",
        "import pickle as pkl\n",
        "import keras\n",
        "from keras.models import Sequential, Model, load_model\n",
        "from keras.layers import LSTM, Dense, RepeatVector, TimeDistributed, Input,Bidirectional,Dropout,LayerNormalization,Conv1D, BatchNormalization, \\\n",
        "    multiply, concatenate, Flatten, Activation, dot\n",
        "from tensorflow.keras.optimizers import Adam\n",
        "from tensorflow.keras import regularizers\n",
        "from keras.callbacks import EarlyStopping,ModelCheckpoint\n",
        "import pydot as pyd\n",
        "from keras.utils.vis_utils import plot_model, model_to_dot\n",
        "keras.utils.vis_utils.pydot = pyd"
      ],
      "metadata": {
        "id": "cQM07H9ua6JQ"
      },
      "execution_count": null,
      "outputs": []
    },
    {
      "cell_type": "markdown",
      "source": [
        "# Data preprocessing part"
      ],
      "metadata": {
        "id": "jP9bFxfibwzm"
      }
    },
    {
      "cell_type": "code",
      "source": [
        "def ACE_raw_feature4Delay(df, windowsize=30):\n",
        "    Raw_feature2 = []\n",
        "    simu_epoch = []\n",
        "    Attack_StartIndex = [] # the attack start index for each epoch, -1 for no attack\n",
        "    LastSample_Index = [] #the index of the last sample for each segment\n",
        "    flag = []\n",
        "    df_noattack_f = df[df.flag == 0]\n",
        "    df_attack_f = df[df.flag >0]\n",
        "    label=[]\n",
        "    ast=[]\n",
        "    #no attack\n",
        "    for epoch in df_noattack_f.epoch.unique(): \n",
        "        df_epoch = df_noattack_f[df_noattack_f.epoch == epoch]\n",
        "        df_epoch.reset_index(inplace=True)\n",
        "        \n",
        "        StartAttack_index = -1\n",
        "        \n",
        "            \n",
        "        # normalized sensors for feature extraction\n",
        "        df_n20 = np.array(df_epoch[['ACE2_n','ACE3_n','ACE1_n']])\n",
        "        \n",
        "        \n",
        "        for i in range(df_epoch.shape[0] - windowsize): \n",
        "            Raw_feature2.append(df_n20[i:i+windowsize].flatten())\n",
        "            simu_epoch.append(epoch)\n",
        "            flag.append(0)\n",
        "#             label.append(np.zeros(windowsize).flatten())\n",
        "            ast.append(0)\n",
        "            Attack_StartIndex.append(StartAttack_index)\n",
        "            LastSample_Index.append(i+windowsize-1)\n",
        "    #has attack\n",
        "    for epoch in df_attack_f.epoch.unique(): \n",
        "        df_epoch = df_attack_f[df_attack_f.epoch == epoch]\n",
        "        df_epoch.reset_index(inplace=True)\n",
        "        \n",
        "        StartAttack_index = df_epoch[df_epoch.attack_status >0].index[0]\n",
        "            \n",
        "        # normalized sensors for feature extraction\n",
        "        df_n20 = np.array(df_epoch[['ACE2_n','ACE3_n','ACE1_n']])\n",
        "        df_l21=np.array(df_epoch[['attack_status']])\n",
        "        df_m21=np.array(df_epoch[['flag']])\n",
        "        for i in range(df_epoch.shape[0] - windowsize):   \n",
        "            Raw_feature2.append(df_n20[i:i+windowsize].flatten())\n",
        "            simu_epoch.append(epoch)\n",
        "            flag.append(df_m21[i + windowsize-1][0])\n",
        "#             label.append(df_l21[i:i + windowsize].flatten())\n",
        "            ast.append(df_l21[i + windowsize-1][0])\n",
        "            Attack_StartIndex.append(StartAttack_index)\n",
        "            LastSample_Index.append(i+windowsize-1)\n",
        "    \n",
        "    \n",
        "    # save landscape feature \n",
        "    df_raw = pd.DataFrame(Raw_feature2)\n",
        "    # df_raw=pd.concat(objs=[df_raw,label],axis=1,join=\"inner\")\n",
        "    df_raw['simu_epoch'] = simu_epoch\n",
        "    df_raw['LastSample_Index'] = LastSample_Index \n",
        "    df_raw['Attack_StartIndex'] = Attack_StartIndex\n",
        "    df_raw['flag'] = flag\n",
        "#     df_raw['label']=label\n",
        "    df_raw['ast']=ast\n",
        "    # df_raw['attackornot']=\n",
        "    return df_raw"
      ],
      "metadata": {
        "id": "xdTU6rGua6HQ"
      },
      "execution_count": null,
      "outputs": []
    },
    {
      "cell_type": "code",
      "source": [
        "RawFileFold = '/home/yangying/Zeng Hanyu/newdata/delay_fixed.csv'\n",
        "df_raw = pd.read_csv(RawFileFold)\n",
        "# keep sensor of ACEs\n",
        "from sklearn.preprocessing import MinMaxScaler\n",
        "Scaler = MinMaxScaler()\n",
        "df_ACE = df_raw.copy()\n",
        "\n",
        "# normalize sensor data\n",
        "normal_data = np.array(df_ACE[['Ace_area_2','Ace_area_3', 'Ace_area_1','attack_status','flag']])\n",
        "df_ACE['ACE2_n'] = normal_data[:, 0]\n",
        "df_ACE['ACE3_n'] = normal_data[:, 1]\n",
        "df_ACE['ACE1_n'] = normal_data[:, 2]\n",
        "df_ACE['attack_status']=normal_data[:, 3]\n",
        "df_ACE['flag']=normal_data[:, 4]\n",
        "df_ACE['ACE1_n'].shape\n",
        "# df_ACE['mean']=(df_ACE['ACE2_n']+df_ACE['ACE3_n']+df_ACE['ACE1_n'])/3\n",
        "# b=[]\n",
        "# for i in range(df_ACE.shape[0]):\n",
        "#     a=(df_ACE[i,0]+df_ACE[i,1]+df_ACE[i,2])/3\n",
        "#     b.append[a]\n",
        "# df_ACE['attack_status']=df_ACE.apply(b)\n",
        "df_ACE\n",
        "# dfTDA= ACE_raw_feature4Delay(df_ACE, RawFileFold)"
      ],
      "metadata": {
        "id": "KzMGagI6a6Fd"
      },
      "execution_count": null,
      "outputs": []
    },
    {
      "cell_type": "code",
      "source": [
        "df_TDA_noattack = df_ACE[df_ACE.flag == 0]\n",
        "df_TDA_attack1= df_ACE[df_ACE.flag== 1]\n",
        "# df_TDA_attack2 = dftrain[dftrain.iloc[:,-1]== 2]\n",
        "print('normal_epoch {}'.format(len(df_TDA_noattack.iloc[:,-5].unique())))\n",
        "print('abnormal_epoch1 {}'.format(len(df_TDA_attack1.iloc[:,-5].unique())))\n",
        "# print('abnormal_epoch2 {}'.format(len(df_TDA_attack2.iloc[:,-5].unique())))\n",
        "abnormal_epoch1= list(df_TDA_attack1.iloc[:,-5].unique())\n",
        "# abnormal_epoch2 = list(df_TDA_attack2.iloc[:,-5].unique())\n",
        "normal_epoch = list(df_TDA_noattack.iloc[:,-5].unique())"
      ],
      "metadata": {
        "id": "Bv5ZdWRtbJ7r"
      },
      "execution_count": null,
      "outputs": []
    },
    {
      "cell_type": "code",
      "source": [
        "k1 = int(len(abnormal_epoch1)*0.7) # 70% abnormal for train\n",
        "# k2= int(len(abnormal_epoch2)*0.7)\n",
        "k0= int(len(normal_epoch)*0.7) # 70% normal for train\n",
        "# print(k1,k0)\n",
        "x_train_normal_epochs = []\n",
        "x_train_normal_epochs.extend(random.sample(normal_epoch, k=k0))\n",
        "x_train_abnormal_epochs = []\n",
        "x_train_abnormal_epochs.extend(random.sample(abnormal_epoch1, k=k1))\n",
        "# x_train_abnormal_epochs.extend(random.sample(abnormal_epoch2, k=2))\n",
        "x_test_normal_epochs = []\n",
        "for item in df_TDA_noattack.iloc[:,-5].unique():\n",
        "        if item not in x_train_normal_epochs:\n",
        "            x_test_normal_epochs.append(item)  \n",
        "x_test_abnormal_epochs = []\n",
        "for item in df_TDA_attack1.iloc[:,-5].unique():\n",
        "        if item not in x_train_abnormal_epochs:\n",
        "            x_test_abnormal_epochs.append(item)\n",
        "# for item in df_TDA_attack2.iloc[:,-5].unique():\n",
        "#         if item not in x_train_abnormal_epochs:\n",
        "#             x_test_abnormal_epochs.append(item)           \n",
        "df_train_normal = df_TDA_noattack[df_TDA_noattack.iloc[:,-5].isin(x_train_normal_epochs)]\n",
        "df_test_normal = df_TDA_noattack[df_TDA_noattack.iloc[:,-5].isin(x_test_normal_epochs)]\n",
        "df_train_abnormal1 = df_TDA_attack1[df_TDA_attack1.iloc[:,-5].isin(x_train_abnormal_epochs)]\n",
        "df_test_abnormal1 = df_TDA_attack1[df_TDA_attack1.iloc[:,-5].isin(x_test_abnormal_epochs)]\n",
        "# df_train_abnormal2 = df_TDA_attack2[df_TDA_attack2.iloc[:,-5].isin(x_train_abnormal_epochs)]\n",
        "# df_test_abnormal2 = df_TDA_attack2[df_TDA_attack2.iloc[:,-5].isin(x_test_abnormal_epochs)]\n",
        "trainable1= df_train_normal.append(df_train_abnormal1)\n",
        "# trainable = trainable1.append(df_train_abnormal2)\n",
        "testable1= df_test_normal.append(df_test_abnormal1)\n",
        "# testable = testable1.append(df_test_abnormal2)"
      ],
      "metadata": {
        "id": "wNmziF4obchx"
      },
      "execution_count": null,
      "outputs": []
    },
    {
      "cell_type": "code",
      "source": [
        "RawFileFold = '/home/yangying/Zeng Hanyu/newdata/stealthy_All.csv'\n",
        "df_raw = pd.read_csv(RawFileFold)\n",
        "# keep sensor of ACEs\n",
        "from sklearn.preprocessing import MinMaxScaler\n",
        "Scaler = MinMaxScaler()\n",
        "df_ACE = df_raw.copy()\n",
        "\n",
        "# normalize sensor data\n",
        "normal_data = np.array(df_ACE[['Ace_area_2','Ace_area_3', 'Ace_area_1','attack_status','flag']])\n",
        "df_ACE['ACE2_n'] = normal_data[:, 0]\n",
        "df_ACE['ACE3_n'] = normal_data[:, 1]\n",
        "df_ACE['ACE1_n'] = normal_data[:, 2]\n",
        "df_ACE['attack_status']=normal_data[:, 3]\n",
        "df_ACE['flag']=normal_data[:, 4]\n",
        "df_ACE['ACE1_n'].shape\n",
        "# df_ACE['mean']=(df_ACE['ACE2_n']+df_ACE['ACE3_n']+df_ACE['ACE1_n'])/3\n",
        "# b=[]\n",
        "# for i in range(df_ACE.shape[0]):\n",
        "#     a=(df_ACE[i,0]+df_ACE[i,1]+df_ACE[i,2])/3\n",
        "#     b.append[a]\n",
        "# df_ACE['attack_status']=df_ACE.apply(b)\n",
        "df_ACE\n",
        "# dfOPT= ACE_raw_feature4OPT(df_ACE, RawFileFold)"
      ],
      "metadata": {
        "id": "wXmoOWU2a6Dt"
      },
      "execution_count": null,
      "outputs": []
    },
    {
      "cell_type": "code",
      "source": [
        "df_TDA_noattack = df_ACE[df_ACE.flag == 0]\n",
        "df_TDA_attack1 = df_ACE[df_ACE.flag== 2]\n",
        "# df_TDA_attack2 = df[df.iloc[:,-1]== 2]\n",
        "print('normal_epoch {}'.format(len(df_TDA_noattack.epoch.unique())))\n",
        "print('abnormal_epoch {}'.format(len(df_TDA_attack1.epoch.unique())))\n",
        "# print('total_epoch {}'.format(len(df_TDA_attack2.iloc[-5].unique())))\n",
        "abnormal_epoch1 = list(df_TDA_attack1.epoch.unique())\n",
        "# abnormal_epoch2 = list(df_TDA_attack2.iloc[:,-5].unique())\n",
        "normal_epoch = list(df_TDA_noattack.epoch.unique())"
      ],
      "metadata": {
        "id": "2MqcL6sya6CD"
      },
      "execution_count": null,
      "outputs": []
    },
    {
      "cell_type": "code",
      "source": [
        "df_ACE.epoch+=10000\n",
        "df_ACE.flag*=2\n",
        "b=[]\n",
        "for a in df_ACE.attack_status:\n",
        "    b.append(2 if a>0 else 0)\n",
        "df_ACE.attack_status=pd.DataFrame(b)"
      ],
      "metadata": {
        "id": "WgdleONpbUed"
      },
      "execution_count": null,
      "outputs": []
    },
    {
      "cell_type": "code",
      "source": [
        "k1 = int(len(abnormal_epoch1)*0.7) # 70% abnormal for train\n",
        "# k2= int(len(abnormal_epoch2)*0.7)\n",
        "k0= int(len(normal_epoch)*0.7) # 70% normal for train\n",
        "# print(k1,k0)\n",
        "x_train_normal_epochs = []\n",
        "x_train_normal_epochs.extend(random.sample(normal_epoch, k=k0))\n",
        "x_train_abnormal_epochs = []\n",
        "x_train_abnormal_epochs.extend(random.sample(abnormal_epoch1, k=k1))\n",
        "# x_train_abnormal_epochs.extend(random.sample(abnormal_epoch2, k=2))\n",
        "x_test_normal_epochs = []\n",
        "for item in df_TDA_noattack.iloc[:,-5].unique():\n",
        "        if item not in x_train_normal_epochs:\n",
        "            x_test_normal_epochs.append(item)  \n",
        "x_test_abnormal_epochs = []\n",
        "for item in df_TDA_attack1.iloc[:,-5].unique():\n",
        "        if item not in x_train_abnormal_epochs:\n",
        "            x_test_abnormal_epochs.append(item)\n",
        "# for item in df_TDA_attack2.iloc[:,-5].unique():\n",
        "#         if item not in x_train_abnormal_epochs:\n",
        "#             x_test_abnormal_epochs.append(item)           \n",
        "df_train_normal = df_TDA_noattack[df_TDA_noattack.iloc[:,-5].isin(x_train_normal_epochs)]\n",
        "df_test_normal = df_TDA_noattack[df_TDA_noattack.iloc[:,-5].isin(x_test_normal_epochs)]\n",
        "df_train_abnormal1 = df_TDA_attack1[df_TDA_attack1.iloc[:,-5].isin(x_train_abnormal_epochs)]\n",
        "df_test_abnormal1 = df_TDA_attack1[df_TDA_attack1.iloc[:,-5].isin(x_test_abnormal_epochs)]\n",
        "# df_train_abnormal2 = df_TDA_attack2[df_TDA_attack2.iloc[:,-5].isin(x_train_abnormal_epochs)]\n",
        "# df_test_abnormal2 = df_TDA_attack2[df_TDA_attack2.iloc[:,-5].isin(x_test_abnormal_epochs)]\n",
        "trainable2= df_train_normal.append(df_train_abnormal1)\n",
        "# trainable = trainable1.append(df_train_abnormal2)\n",
        "testable2= df_test_normal.append(df_test_abnormal1)\n",
        "# testable = testable1.append(df_test_abnormal2)"
      ],
      "metadata": {
        "id": "G5wMaATFa5_r"
      },
      "execution_count": null,
      "outputs": []
    },
    {
      "cell_type": "code",
      "source": [
        "testable=pd.concat([testable1,testable2])\n",
        "trainable=pd.concat([trainable1,trainable2])\n",
        "dftest= ACE_raw_feature4Delay(testable)\n",
        "dftrain=ACE_raw_feature4Delay(trainable)"
      ],
      "metadata": {
        "id": "3EJAdqsZa58O"
      },
      "execution_count": null,
      "outputs": []
    },
    {
      "cell_type": "code",
      "source": [
        "from sklearn.preprocessing import MinMaxScaler\n",
        "Scaler = MinMaxScaler()\n",
        "a=Scaler.fit(dftrain.iloc[:,:90].values.reshape(dftrain.shape[0]*90,1))\n",
        "df1=a.transform(dftrain.iloc[:,:90].values.reshape(dftrain.shape[0]*90,1))\n",
        "dftrain=pd.concat(objs=[pd.DataFrame(df1.reshape(dftrain.shape[0],90)),dftrain.iloc[:,90:]],axis=1,ignore_index=True)\n",
        "dftrain\n",
        "df1=a.transform(dftest.iloc[:,:90].values.reshape(dftest.shape[0]*90,1))\n",
        "dftest=pd.concat(objs=[pd.DataFrame(df1.reshape(dftest.shape[0],90)),dftest.iloc[:,90:]],axis=1,ignore_index=True)\n",
        "dftest"
      ],
      "metadata": {
        "id": "ShKMk74Na558"
      },
      "execution_count": null,
      "outputs": []
    },
    {
      "cell_type": "code",
      "source": [
        "Xtrain=pd.DataFrame(dftrain).iloc[:,:30].values.reshape(dftrain.shape[0],10,3)"
      ],
      "metadata": {
        "id": "HArF3yeua51s"
      },
      "execution_count": null,
      "outputs": []
    },
    {
      "cell_type": "markdown",
      "source": [
        "# AutoEncoder training part"
      ],
      "metadata": {
        "id": "lk9jvJvjbp96"
      }
    },
    {
      "cell_type": "code",
      "source": [
        "ENC_PROJECTION_DIM=80\n",
        "\n",
        "ENC_NUM_HEADS=3\n",
        "ENC_LAYERS=3\n",
        "NUM_PATCHES=2\n",
        "DEC_LAYERS=6\n",
        "DEC_NUM_HEADS=3\n",
        "LAYER_NORM_EPS=1e-6\n",
        "DEC_PROJECTION_DIM=80\n",
        "ENC_TRANSFORMER_UNITS=80\n",
        "MLPHL=[80]"
      ],
      "metadata": {
        "id": "nhBh8opVa5yy"
      },
      "execution_count": null,
      "outputs": []
    },
    {
      "cell_type": "code",
      "source": [
        "\n",
        "def mlp(x, dropout_rate, hidden_units):\n",
        "    for units in hidden_units:\n",
        "        x = layers.Dense(units, activation=tf.nn.gelu)(x)\n",
        "        x = layers.Dropout(dropout_rate)(x)\n",
        "    return x"
      ],
      "metadata": {
        "id": "kMXHs-X_a5tT"
      },
      "execution_count": null,
      "outputs": []
    },
    {
      "cell_type": "code",
      "source": [
        "def create_encoder(num_heads=ENC_NUM_HEADS, num_layers=ENC_LAYERS):\n",
        "    inputs = layers.Input((None, ENC_PROJECTION_DIM))\n",
        "    x = inputs\n",
        "\n",
        "    for _ in range(num_layers):\n",
        "        # Layer normalization 1.\n",
        "        x1 = layers.LayerNormalization(epsilon=LAYER_NORM_EPS)(x)\n",
        "\n",
        "        # Create a multi-head attention layer.\n",
        "        attention_output = layers.MultiHeadAttention(\n",
        "            num_heads=num_heads, key_dim=ENC_PROJECTION_DIM, dropout=0.1\n",
        "        )(x1, x1)\n",
        "\n",
        "        # # Skip connection 1.\n",
        "        x2 = layers.Add()([attention_output, x])\n",
        "\n",
        "        # Layer normalization 2.\n",
        "        x3 = layers.LayerNormalization(epsilon=LAYER_NORM_EPS)(x2)\n",
        "\n",
        "        # MLP.\n",
        "        x3 = mlp(x3, hidden_units=MLPHL, dropout_rate=0.1)\n",
        "\n",
        "        # Skip connection 2.\n",
        "        x = layers.Add()([x3, x2])\n",
        "\n",
        "    outputs = layers.LayerNormalization(epsilon=LAYER_NORM_EPS)(x)\n",
        "#     outputs=layers.Conv1D( ENC_PROJECTION_DIM,3,padding='same')(outputs)\n",
        "    return keras.Model(inputs, outputs, name=\"mae_encoder\")"
      ],
      "metadata": {
        "id": "YyypASKta5rk"
      },
      "execution_count": null,
      "outputs": []
    },
    {
      "cell_type": "code",
      "source": [
        "def create_decoder(\n",
        "    num_layers=DEC_LAYERS, num_heads=DEC_NUM_HEADS\n",
        "):\n",
        "    inputs = layers.Input((NUM_PATCHES, ENC_PROJECTION_DIM))\n",
        "    x = layers.Dense(DEC_PROJECTION_DIM)(inputs)\n",
        "\n",
        "    for _ in range(num_layers):\n",
        "        # Layer normalization 1.\n",
        "        x1 = layers.LayerNormalization(epsilon=LAYER_NORM_EPS)(x)\n",
        "\n",
        "        # Create a multi-head attention layer.\n",
        "        attention_output = layers.MultiHeadAttention(\n",
        "            num_heads=num_heads, key_dim=DEC_PROJECTION_DIM, dropout=0.1\n",
        "        )(x1, x1)\n",
        "\n",
        "        # Skip connection 1.\n",
        "        x2 = layers.Add()([attention_output, x])\n",
        "\n",
        "        # Layer normalization 2.\n",
        "        x3 = layers.LayerNormalization(epsilon=LAYER_NORM_EPS)(x2)\n",
        "\n",
        "        # MLP.\n",
        "        x3 = mlp(x3, hidden_units=MLPHL, dropout_rate=0.1)\n",
        "\n",
        "        # Skip connection 2.\n",
        "        x = layers.Add()([x3, x2])\n",
        "\n",
        "    x = layers.LayerNormalization(epsilon=1e-6)(x)\n",
        "    outputs = layers.Dense(15)(x)\n",
        "\n",
        "    return keras.Model(inputs, outputs, name=\"mae_decoder\")"
      ],
      "metadata": {
        "id": "J_UuRCKlayGz"
      },
      "execution_count": null,
      "outputs": []
    },
    {
      "cell_type": "code",
      "source": [
        "encoder = create_encoder()\n",
        "decoder = create_decoder()"
      ],
      "metadata": {
        "id": "AA51djOXcNVq"
      },
      "execution_count": null,
      "outputs": []
    },
    {
      "cell_type": "code",
      "source": [
        "from tensorflow import keras\n",
        "from tensorflow.keras import optimizers\n",
        "from tensorflow.keras.optimizers import schedules\n",
        "from keras.layers.core import Lambda\n",
        "step = tf.Variable(0, trainable=False)\n",
        "boundaries = [100000, 150000]\n",
        "values = [1e-3, 3e-3, 2e-3]\n",
        "learning_rate_fn = keras.optimizers.schedules.PiecewiseConstantDecay(\n",
        "    boundaries, values)"
      ],
      "metadata": {
        "id": "GqUZRu9EcNT-"
      },
      "execution_count": null,
      "outputs": []
    },
    {
      "cell_type": "code",
      "source": [
        "patches=layers.Input(shape=(10,3))\n",
        "\n",
        "# n=tf.random.normal([30,3], 0, 0.005, tf.float32, seed=1)\n",
        "# patch=patches+n#code for DAE \n",
        "x=layers.Reshape((6,15))(patch)\n",
        "unmasked_embeddings=layers.Dense(140)(x)\n",
        "encoder_outputs = encoder(unmasked_embeddings)\n",
        "encoder_outputs = encoder_outputs\n",
        "decoder_outputs =decoder(encoder_outputs)\n",
        "decoder_outputs=layers.Reshape((10,3))(decoder_outputs)\n",
        "model=Model(inputs=patches,outputs=decoder_outputs)\n",
        "opt = tfa.optimizers.AdamW(learning_rate=learning_rate_fn(step), weight_decay=1e-4)\n",
        "model.compile(loss='mae',optimizer=opt)\n",
        "model.summary()"
      ],
      "metadata": {
        "id": "YvRv3TXkcNQm"
      },
      "execution_count": null,
      "outputs": []
    },
    {
      "cell_type": "code",
      "source": [
        "epc = 120\n",
        "es=keras.callbacks.EarlyStopping(\n",
        "monitor='val_loss',\n",
        "min_delta=0, \n",
        "patience=35)\n",
        "history = model.fit(Xtrain,Xtrain, validation_split=0.15, \n",
        "                    epochs=epc, verbose=1, callbacks=[ModelCheckpoint(filepath='/home/yangying/Zeng Hanyu/reverse/DAE5eventfor10WSstealthy',monitor=\"val_loss\", verbose=1, save_best_only=True),es], \n",
        "                    batch_size=1024,shuffle=True)"
      ],
      "metadata": {
        "id": "jk6rYnG8cNPF"
      },
      "execution_count": null,
      "outputs": []
    },
    {
      "cell_type": "markdown",
      "source": [
        "# Evaluation part\n"
      ],
      "metadata": {
        "id": "y6pNfymXctWl"
      }
    },
    {
      "cell_type": "code",
      "source": [
        "df_TDA_noattack = pd.DataFrame(dftrain[dftrain[:,-1] == 0])\n",
        "df_TDA_attack1 = pd.DataFrame(dftrain[dftrain[:,-1]== 1])\n",
        "df_TDA_attack2 = pd.DataFrame(dftrain[dftrain[:,-1]== 2])\n",
        "print('normal_epoch {}'.format(len(pd.DataFrame(df_TDA_noattack).index.unique())))\n",
        "print('abnormal_epoch {}'.format(len(pd.DataFrame(df_TDA_attack1).index.unique())))\n",
        "print('total_epoch {}'.format(len(pd.DataFrame(df_TDA_attack2).index.unique())))\n"
      ],
      "metadata": {
        "id": "Hes9apzdcNMY"
      },
      "execution_count": null,
      "outputs": []
    },
    {
      "cell_type": "code",
      "source": [
        "train_normal=df_TDA_noattack.sample(n=200)\n",
        "test_normal=df_TDA_noattack[~df_TDA_noattack.index.isin(train_normal.index)]\n",
        "train_abnormal1=df_TDA_attack1.sample(n=100)\n",
        "test_abnormal1=df_TDA_attack1[~df_TDA_attack1.index.isin(train_abnormal1.index)]\n",
        "train_abnormal2=df_TDA_attack2.sample(n=100)\n",
        "test_abnormal2=df_TDA_attack2[~df_TDA_attack2.index.isin(train_abnormal2.index)]"
      ],
      "metadata": {
        "id": "_zHXx_LkcNEA"
      },
      "execution_count": null,
      "outputs": []
    },
    {
      "cell_type": "code",
      "source": [
        "train1=pd.concat([train_normal,train_abnormal1,train_abnormal2])\n",
        "test1=pd.concat([test_normal,test_abnormal1,test_abnormal2])"
      ],
      "metadata": {
        "id": "t77Jj5IzcNA9"
      },
      "execution_count": null,
      "outputs": []
    },
    {
      "cell_type": "code",
      "source": [
        "# train_normal=df_TDA_noattack.sample(n=40000)\n",
        "# test_normal=df_TDA_noattack[~df_TDA_noattack.index.isin(train_normal.index)]\n",
        "# train_abnormal1=df_TDA_attack1.sample(n=40000)\n",
        "# test_abnormal1=df_TDA_attack1[~df_TDA_attack1.index.isin(train_abnormal1.index)]\n",
        "# train_abnormal2=df_TDA_attack2.sample(n=40000)\n",
        "# test_abnormal2=df_TDA_attack2[~df_TDA_attack2.index.isin(train_abnormal2.index)]# for GMM, will improve the accuracy by about 1%"
      ],
      "metadata": {
        "id": "NoL7TIKOcM-U"
      },
      "execution_count": null,
      "outputs": []
    },
    {
      "cell_type": "code",
      "source": [
        "# train2=pd.concat([train_normal,train_abnormal1,train_abnormal2])\n",
        "dftest=pd.DataFrame(dftest)\n",
        "Xtrain=train1.iloc[:,:30].values.reshape(train1.shape[0],10,3)\n",
        "Ytrain=train1.iloc[:,-1]\n",
        "Xtest=dftest.iloc[:,:30].values.reshape(dftest.shape[0],10,3)\n",
        "Ytest=dftest.iloc[:,-1]\n",
        "# XtrainGMM=train2.iloc[:,:30].values.reshape(train2.shape[0],10,3)#for GMM"
      ],
      "metadata": {
        "id": "Ai-HQh2UcM5s"
      },
      "execution_count": null,
      "outputs": []
    },
    {
      "cell_type": "code",
      "source": [
        "def acc(Y_test,Ypred):\n",
        "  TN0=0\n",
        "  TP0=0\n",
        "  FP0=0\n",
        "  FN0=0\n",
        "  TN1=0\n",
        "  TP1=0\n",
        "  FP1=0\n",
        "  FN1=0\n",
        "  TN2=0\n",
        "  TP2=0\n",
        "  FP2=0\n",
        "  FN2=0\n",
        "  for i in range(Ypred.shape[0]):\n",
        "    if Y_test[i]==1:\n",
        "      if Ypred[i]==1:\n",
        "        TP1+=1\n",
        "      else:FN1+=1\n",
        "  # else:\n",
        "  #   if list(Ypred.values[i]).count(1)>=list(Ypred.values[i]).count(2):\n",
        "  #     FP1+=1\n",
        "  #   else:TN1+=1\n",
        "    elif Y_test[i]!=1:\n",
        "      if Ypred[i]!=1:\n",
        "        TN1+=1\n",
        "      else:FP1+=1\n",
        "  for i in range(Ypred.shape[0]):\n",
        "    if Y_test[i]==2:\n",
        "      if Ypred[i]==2:\n",
        "        TP2+=1\n",
        "      else:FN2+=1\n",
        "  # else:\n",
        "  #   if list(Ypred.values[i]).count(1)>=list(Ypred.values[i]).count(2):\n",
        "  #     FP1+=1\n",
        "  #   else:TN1+=1\n",
        "    elif Y_test[i]!=2:\n",
        "      if Ypred[i]!=2:\n",
        "        TN2+=1\n",
        "      else:FP2+=1\n",
        "  for i in range(Ypred.shape[0]):\n",
        "    if Y_test[i]==0:\n",
        "      if Ypred[i]==0:\n",
        "        TP0+=1\n",
        "      else:FN0+=1\n",
        "  # else:\n",
        "  #   if list(Ypred.values[i]).count(1)>=list(Ypred.values[i]).count(2):\n",
        "  #     FP1+=1\n",
        "  #   else:TN1+=1\n",
        "    elif Y_test[i]!=0:\n",
        "      if Ypred[i]!=0:\n",
        "        TN0+=1\n",
        "      else:FP0+=1\n",
        "  a='for 0 precision/recall/f1:'\n",
        "  b='for Delay attack precision/recall/f1:'\n",
        "  c='for FDI precision/recall/f1:'\n",
        "  print(a,TP0/(FP0+TP0),TP0/(FN0+TP0),(TP0/(FP0+TP0)+TP0/(FN0+TP0))/2,b,TP1/(FP1+TP1),TP1/(FN1+TP1),(TP1/(FP1+TP1)+TP1/(FN1+TP1))/2,c,TP2/(FP2+TP2),TP2/(FN2+TP2),(TP2/(FP2+TP2)+TP2/(FN2+TP2))/2)"
      ],
      "metadata": {
        "id": "xtGuOscfdJRK"
      },
      "execution_count": null,
      "outputs": []
    },
    {
      "cell_type": "code",
      "source": [
        "model=load_model('/home/yangying/Zeng Hanyu/reverse/DAE5eventfor10WSstealthy')\n",
        "model.summary()\n",
        "# patch_encoder = model.layers[1]\n",
        "# print(patch_encoder)\n",
        "# patch_encoder.downstream = True  # Swtich the downstream flag to True.\n",
        "reshape=model.layers[2]\n",
        "dense=model.layers[3]\n",
        "# Extract the encoder.\n",
        "encoder = model.layers[4]\n",
        "print(encoder)\n",
        "# Pack as a model.\n",
        "patches=layers.Input(shape=(10,3))\n",
        "# x=layers.Conv1D(ENC_PROJECTION_DIM,CLen,padding='same')(patches)\n",
        "# x= layers.Reshape((10,9))(patches)\n",
        "# (  patch_embeddings,\n",
        "#                 unmasked_embeddings, \n",
        "#                 masked_embeddings, \n",
        "#                 unmasked_positions,  \n",
        "#                 mask_indices,  \n",
        "#                 unmask_indices\n",
        "#             )= patch_encoder(patches)\n",
        "x=reshape(patches)\n",
        "patch_embeddings=dense(x)\n",
        "encoder_outputs = encoder(patch_embeddings)\n",
        "downstream_model=Model(inputs=patches,outputs=encoder_outputs)\n",
        "RFinp=downstream_model.predict(Xtrain)\n",
        "RFinp=RFinp.reshape(RFinp.shape[0],RFinp.shape[1]*RFinp.shape[2])\n",
        "print(RFinp.shape)\n",
        "from sklearn.ensemble import RandomForestClassifier\n",
        "clf = RandomForestClassifier(n_estimators=1000, random_state=0)\n",
        "clf.fit(RFinp,Ytrain)\n",
        "# Ypred=clf.predict(RFpred)\n",
        "# Y_test=np.array(Ytest)\n",
        "# acc(Y_test,Ypred)\n",
        "import time\n",
        "start = time.perf_counter()\n",
        "RFpred=downstream_model.predict(Xtest)\n",
        "RFpred=RFpred.reshape(RFpred.shape[0],RFpred.shape[1]*RFpred.shape[2])\n",
        "Ypred=clf.predict(RFpred)\n",
        "end = time.perf_counter()\n",
        "print ((end-start)/Xtest.shape[0])\n",
        "Y_test=np.array(Ytest)\n",
        "acc(Y_test,Ypred)"
      ],
      "metadata": {
        "id": "8SQ3l7ordMDs"
      },
      "execution_count": null,
      "outputs": []
    },
    {
      "cell_type": "code",
      "source": [
        "# Xpredtra=model.predict(XtrainGMM)\n",
        "# error_train=XtrainGMM-Xpredtra\n",
        "# error_train=error_train.reshape(error_train.shape[0],30)\n",
        "# from sklearn.mixture import GaussianMixture\n",
        "# gm = GaussianMixture(n_components=18, random_state=0).fit(error_train)\n",
        "# Xpredinp=model.predict(Xtrain)\n",
        "# error_inp=Xtrain-Xpredinp\n",
        "# error_inp=error_inp.reshape(error_inp.shape[0],30)\n",
        "# trainfea=gm.predict(error_inp)\n",
        "# RFinp=downstream_model.predict(Xtrain)\n",
        "\n",
        "# RFinp=RFinp.reshape(RFinp.shape[0],RFinp.shape[1]*RFinp.shape[2])\n",
        "# print(RFinp.shape)\n",
        "# trainfea.shape\n",
        "# trainfea=trainfea.reshape(400,1)\n",
        "# RFinp1=np.concatenate([RFinp,trainfea],axis=1)\n",
        "# from sklearn.ensemble import RandomForestClassifier\n",
        "# clf = RandomForestClassifier(n_estimators=1000, random_state=0)\n",
        "# clf.fit(RFinp1,Ytrain)\n",
        "# import time\n",
        "# start = time.perf_counter()\n",
        "# Xpredtes=model.predict(Xtest)\n",
        "# error_test=Xtest-Xpredtes\n",
        "# error_test=error_test.reshape(error_test.shape[0],30)\n",
        "# testfea=gm.predict(error_test)\n",
        "# testfea=testfea.reshape(testfea.shape[0],1)\n",
        "# RFpred=downstream_model.predict(Xtest)\n",
        "# RFpred=RFpred.reshape(RFpred.shape[0],RFpred.shape[1]*RFpred.shape[2])\n",
        "# RFpred1=np.concatenate([RFpred,testfea],axis=1)\n",
        "# Ypred=clf.predict(RFpred1)\n",
        "# end = time.perf_counter()\n",
        "# print ((end-start)/Xtest.shape[0])\n",
        "# Y_test=np.array(Ytest)\n",
        "# acc(Y_test,Ypred)# for GMM"
      ],
      "metadata": {
        "id": "Tll0sRI3dOxq"
      },
      "execution_count": null,
      "outputs": []
    },
    {
      "cell_type": "markdown",
      "source": [
        "# Drawing part: Code for figures in the paper\n"
      ],
      "metadata": {
        "id": "ZU5sIaceavoo"
      }
    },
    {
      "cell_type": "code",
      "execution_count": null,
      "metadata": {
        "colab": {
          "base_uri": "https://localhost:8080/",
          "height": 190
        },
        "id": "XzkkpaQqs9pe",
        "outputId": "fc98b3c5-eb99-469b-b2f5-199801aec1c2"
      },
      "outputs": [
        {
          "output_type": "display_data",
          "data": {
            "text/plain": [
              "<Figure size 720x144 with 1 Axes>"
            ],
            "image/png": "[encoded data removed]"
          },
          "metadata": {
            "needs_background": "light"
          }
        }
      ],
      "source": [
        "from matplotlib.docstring import dedent_interpd\n",
        "# -*- coding: utf-8 -*-\n",
        "import numpy as np\n",
        "import matplotlib.pyplot as plt\n",
        "plt.rcParams['font.sans-serif']=['Arial']#如果要显示中文字体，则在此处设为：SimHei\n",
        "plt.rcParams['axes.unicode_minus']=False#显示负号\n",
        "\n",
        "x = np.array([3,5,7,9,11,13,15,17,19])\n",
        "noABC = np.array([0.958,0.963, 0.967, 0.957, 0.961, 0.966, 0.961, 0.963, 0.97])\n",
        "deABC= np.array([0.709, 0.747, 0.796, 0.75, 0.785, 0.831, 0.795, 0.834, 0.885])\n",
        "FDABC=np.array([0.969,0.975,0.985,0.976,0.981,0.987,0.986,0.977,0.984])\n",
        "noDNN=np.array([0.9,0.94,0.96,0.87,0.89,0.97,0.81,0.86,0.96])\n",
        "deDNN=np.array([0.26,0.47,0.74,0.14,0.3,0.81,0.2,0.29,0.81])\n",
        "FDDNN=np.array([0.75,0.79,0.98,0.71,0.76,0.98,0.7,0.74,0.97])\n",
        "noLST=np.array([0.94,0.95,0.96,0.93,0.93,0.97,0.91,0.93,0.97])\n",
        "deLST=np.array([0.09,0.16,0.7,0.16,0.12,0.84,0.18,0.56,0.88])\n",
        "FDLST=np.array([0.79,0.85,0.98,0.86,0.84,0.98,0.81,0.92,0.96])\n",
        "noRF=np.array([0.97,0.96,0.97,0.96,0.96,0.97,0.96,0.96,0.97])\n",
        "deRF=np.array([0.68,0.71,0.78,0.71,0.77,0.82,0.74,0.78,0.85])\n",
        "FDRF=np.array([0.97,0.97,0.98,0.96,0.97,0.99,0.96,0.97,0.99])\n",
        "\n",
        "\n",
        "\n",
        "\n",
        "\n",
        "\n",
        "#label在图示(legend)中显示。若为数学公式，则最好在字符串前后添加\"$\"符号\n",
        "#color：b:blue、g:green、r:red、c:cyan、m:magenta、y:yellow、k:black、w:white、、、\n",
        "#线型：-  --   -.  :    ,\n",
        "#marker：.  ,   o   v    <    *    +    1\n",
        "plt.figure(figsize=(10,2))\n",
        "# plt.grid(linestyle = \"--\") #设置背景网格线为虚线\n",
        "ax = plt.gca()\n",
        "ax.spines['top'].set_visible(False) #去掉上边框\n",
        "ax.spines['right'].set_visible(False) #去掉右边框\n",
        "\n",
        "\n",
        "# plt.plot(x,noDNN,color=\"red\",label=\"normal f1 for DNN\",marker='o',linewidth=0.5)\n",
        "# plt.plot(x,deDNN,\"r-\",label=\"delay f1 for DNN\",marker='o',linewidth=0.5)\n",
        "plt.plot(x,FDDNN,\"r-\",label=\"FDI f1 for DNN\",marker='o',linewidth=0.5)\n",
        "# plt.plot(x,noLST,color=\"green\",label=\"normal f1 for RNN\",marker='o',linewidth=0.5)\n",
        "# plt.plot(x,deLST,\"g-\",label=\"delay f1 for RNN\",marker='o',linewidth=0.5)\n",
        "plt.plot(x,FDLST,\"g-\",label=\"FDI f1 for RNN\",marker='o',linewidth=0.5)\n",
        "# plt.plot(x,noRF,color=\"m\",label=\"normal f1 for baseline\",marker='o',linewidth=0.5)\n",
        "# plt.plot(x,deRF,\"m-\",label=\"delay f1 for baseline\",marker='o',linewidth=0.5)\n",
        "plt.plot(x,FDRF,\"m-\",label=\"FDI f1 for baseline\",marker='o',linewidth=0.5)\n",
        "# plt.plot(x,noABC,color=\"blue\",label=\"normal f1 for ABCDE\",marker='o',linewidth=0.5)\n",
        "# plt.plot(x,deABC,\"b-\",label=\"delay f1 for ABCDE\",marker='o',linewidth=0.5)\n",
        "plt.plot(x,FDABC,\"b-\",label=\"FDI f1 for ABCDE\",marker='o',linewidth=0.5)\n",
        "group_labels=['5WS+400','5WS+800','5WS+8000','15WS+400','15WS+800',' 15WS+8000','30WS+400','30WS+800','30WS+8000'] #x轴刻度的标识\n",
        "plt.xticks(x,group_labels,fontsize=10,fontweight='bold') #默认字体大小为10\n",
        "plt.yticks(fontsize=10,fontweight='bold')\n",
        "plt.title(\"model comparison for FDIA\",fontsize=12,fontweight='bold') #默认字体大小为12\n",
        "plt.xlabel(\"WindowSize+DataSet\",fontsize=13,fontweight='bold')\n",
        "plt.ylabel(\"F1-score\",fontsize=13,fontweight='bold')\n",
        "plt.xlim(2,20) #设置x轴的范围\n",
        "# plt.ylim(0.7,1)\n",
        "\n",
        "#plt.legend()          #显示各曲线的图例\n",
        "plt.legend(bbox_to_anchor=(1.05, 1), numpoints=1)\n",
        "leg = plt.gca().get_legend()\n",
        "ltext = leg.get_texts()\n",
        "plt.setp(ltext, fontsize=12,fontweight='bold') #设置图例字体的大小和粗细\n",
        "\n",
        "plt.savefig('D:\\\\filename.png') #建议保存为svg格式，再用inkscape转为矢量图emf后插入word中\n",
        "plt.show()"
      ]
    },
    {
      "cell_type": "code",
      "source": [
        "noABC = np.array([0.958,0.963, 0.967, 0.957, 0.961, 0.966, 0.961, 0.963, 0.97])\n",
        "deABC= np.array([0.709, 0.747, 0.796, 0.75, 0.785, 0.831, 0.795, 0.834, 0.885])\n",
        "FDABC=np.array([0.969,0.975,0.985,0.976,0.981,0.987,0.986,0.977,0.984])\n",
        "noDNN=np.array([0.9,0.94,0.96,0.87,0.89,0.97,0.81,0.86,0.96])\n",
        "deDNN=np.array([0.26,0.47,0.74,0.14,0.3,0.81,0.2,0.29,0.81])\n",
        "FDDNN=np.array([0.75,0.79,0.98,0.71,0.76,0.98,0.7,0.74,0.97])\n",
        "noLST=np.array([0.94,0.95,0.96,0.93,0.93,0.97,0.91,0.93,0.97])\n",
        "deLST=np.array([0.09,0.16,0.7,0.16,0.12,0.84,0.18,0.56,0.88])\n",
        "FDLST=np.array([0.79,0.85,0.98,0.86,0.84,0.98,0.81,0.92,0.96])\n",
        "noRF=np.array([0.97,0.96,0.97,0.96,0.96,0.97,0.96,0.96,0.97])\n",
        "deRF=np.array([0.68,0.71,0.78,0.71,0.77,0.82,0.74,0.78,0.85])\n",
        "FDRF=np.array([0.97,0.97,0.98,0.96,0.97,0.99,0.96,0.97,0.99])"
      ],
      "metadata": {
        "id": "lb0fO9qxHVaJ"
      },
      "execution_count": null,
      "outputs": []
    },
    {
      "cell_type": "code",
      "source": [
        "from matplotlib.docstring import dedent_interpd\n",
        "# -*- coding: utf-8 -*-\n",
        "import numpy as np\n",
        "import matplotlib.pyplot as plt\n",
        "plt.rcParams['font.sans-serif']=['Arial']#如果要显示中文字体，则在此处设为：SimHei\n",
        "plt.rcParams['axes.unicode_minus']=False#显示负号\n",
        "\n",
        "x = np.array([3,5,7,9])\n",
        "noABC=np.array([0.956,0.964,0.963,0.961])\n",
        "deABC=np.array([0.677,0.7804,0.75125,0.785])\n",
        "FDABC=np.array([0.962,0.98,0.964,0.986])\n",
        "# noDNN=np.array([0.9367,0.9533,0.9600])\n",
        "# deDNN=np.array([0.5867,0.6767,0.7700])\n",
        "# FDDNN=np.array([0.8567,0.9167,0.9767])\n",
        "# noLST=np.array([0.9467,0.9600,0.9650])\n",
        "# deLST=np.array([0.5767,0.7233,0.8050])\n",
        "# FDLST=np.array([0.9400,0.9667,0.9850])\n",
        "# noRF=np.array([0.96,0.9633,0.97])\n",
        "# deRF=np.array([0.7267,0.75,0.8167])\n",
        "# FDRF=np.array([0.9633,0.9800,0.99])\n",
        "# noDB=np.array([0.96,0.9633,0.97])\n",
        "# DEDB=np.array([0.7033,0.74,0.81])\n",
        "# FDDB=np.array([0.96,0.97,0.9833])\n",
        "\n",
        "# ABC\n",
        "\n",
        "\n",
        "#label在图示(legend)中显示。若为数学公式，则最好在字符串前后添加\"$\"符号\n",
        "#color：b:blue、g:green、r:red、c:cyan、m:magenta、y:yellow、k:black、w:white、、、\n",
        "#线型：-  --   -.  :    ,\n",
        "#marker：.  ,   o   v    <    *    +    1\n",
        "plt.figure(figsize=(8,4))\n",
        "plt.grid(linestyle = \"--\") #设置背景网格线为虚线\n",
        "ax = plt.gca()\n",
        "# ax.spines['top'].set_visible(False) #去掉上边框\n",
        "# ax.spines['right'].set_visible(False) #去掉右边框\n",
        "\n",
        "\n",
        "# plt.plot(x,noDNN,color=\"red\",label=\"normal f1 for DNN\",marker='o',linewidth=0.5)\n",
        "# plt.plot(x,deDNN,\"r--\",label=\"delay f1 for DNN\",marker='o',linewidth=0.5)\n",
        "# plt.plot(x,FDDNN,\"r:\",label=\"FDI f1 for DNN\",marker='o',linewidth=0.5)\n",
        "# plt.plot(x,noLST,color=\"green\",label=\"normal f1 for RNN\",marker='o',linewidth=0.5)\n",
        "# plt.plot(x,deLST,\"g--\",label=\"delay f1 for RNN\",marker='o',linewidth=0.5)\n",
        "# plt.plot(x,FDLST,\"g:\",label=\"FDI f1 for RNN\",marker='o',linewidth=0.5)\n",
        "# plt.plot(x,noRF,color=\"m\",label=\"normal f1 for baseline\",marker='o',linewidth=0.5)\n",
        "# plt.plot(x,deRF,\"m--\",label=\"delay f1 for baseline\",marker='o',linewidth=0.5)\n",
        "# plt.plot(x,FDRF,\"m:\",label=\"FDI f1 for baseline\",marker='o',linewidth=0.5)\n",
        "# plt.plot(x,noDB,color=\"y\",label=\"normal f1 for DBRF\",marker='o',linewidth=0.5)\n",
        "# plt.plot(x,DEDB,\"y--\",label=\"delay f1 for DBRF\",marker='o',linewidth=0.5)\n",
        "# plt.plot(x,FDDB,\"y:\",label=\"FDI f1 for DBRF\",marker='o',linewidth=0.5)\n",
        "plt.plot(x,noABC,color=\"blue\",label=\"normal f1 for PowerBERT\",marker='8',linewidth=1.5)\n",
        "plt.plot(x,deABC,\"r\",label=\"TDA f1 for PowerBERT\",marker='^',linewidth=1.5)\n",
        "plt.plot(x,FDABC,\"g\",label=\"FDIA f1 for PowerBERT\",marker='x',linewidth=1.5)\n",
        "group_labels=['20 seconds','40 seconds','60 seconds','120 seconds'] #x轴刻度的标识\n",
        "plt.xticks(x,group_labels,fontsize=12) #默认字体大小为10\n",
        "plt.yticks(fontsize=12)\n",
        "# plt.title(\"model comparison for different sliding window size\",fontsize=12) #默认字体大小为12\n",
        "plt.xlabel(\"WindowSize\",fontsize=12)\n",
        "plt.ylabel(\"F1-score\",fontsize=12)\n",
        "plt.xlim(2,10) #设置x轴的范围\n",
        "# plt.ylim(0.7,1)\n",
        "\n",
        "#plt.legend()          #显示各曲线的图例\n",
        "plt.legend( numpoints=1,bbox_to_anchor=(1,0.79),fontsize=12)\n",
        "leg = plt.gca().get_legend()\n",
        "ltext = leg.get_texts()\n",
        "plt.setp(ltext, fontsize=12) #设置图例字体的大小和粗细\n",
        "\n",
        "plt.savefig('D:\\\\filename.png') #建议保存为svg格式，再用inkscape转为矢量图emf后插入word中\n",
        "plt.show()"
      ],
      "metadata": {
        "colab": {
          "base_uri": "https://localhost:8080/",
          "height": 289
        },
        "id": "-HX-bWznHaGy",
        "outputId": "9c49225c-cdb0-4ae6-d9c1-f766b260fa1f"
      },
      "execution_count": null,
      "outputs": [
        {
          "output_type": "display_data",
          "data": {
            "text/plain": [
              "<Figure size 576x288 with 1 Axes>"
            ],
            "image/png": "[encoded data removed]"
          },
          "metadata": {
            "needs_background": "light"
          }
        }
      ]
    },
    {
      "cell_type": "code",
      "source": [
        "df=df.iloc[:,1:]\n",
        "df"
      ],
      "metadata": {
        "colab": {
          "base_uri": "https://localhost:8080/",
          "height": 424
        },
        "id": "JhzcXfsqrJ0n",
        "outputId": "379b12f8-9856-49d0-8bf2-fd883451817f"
      },
      "execution_count": null,
      "outputs": [
        {
          "output_type": "execute_result",
          "data": {
            "text/plain": [
              "        y     comp-1     comp-2\n",
              "0     0.0  48.426727  -4.943856\n",
              "1     0.0  25.988058   8.075758\n",
              "2     0.0  26.467619 -13.915829\n",
              "3     0.0  47.464600  -7.076348\n",
              "4     0.0  30.704700  16.805761\n",
              "...   ...        ...        ...\n",
              "1495  2.0 -41.768450 -25.840117\n",
              "1496  2.0 -45.698166 -13.518312\n",
              "1497  2.0 -34.150350 -13.064112\n",
              "1498  2.0 -38.315067 -25.219673\n",
              "1499  2.0 -38.815212 -25.774406\n",
              "\n",
              "[1500 rows x 3 columns]"
            ],
            "text/html": [
              "\n",
              "  <div id=\"df-0feb547f-5de9-4755-866a-53573343cbe0\">\n",
              "    <div class=\"colab-df-container\">\n",
              "      <div>\n",
              "<style scoped>\n",
              "    .dataframe tbody tr th:only-of-type {\n",
              "        vertical-align: middle;\n",
              "    }\n",
              "\n",
              "    .dataframe tbody tr th {\n",
              "        vertical-align: top;\n",
              "    }\n",
              "\n",
              "    .dataframe thead th {\n",
              "        text-align: right;\n",
              "    }\n",
              "</style>\n",
              "<table border=\"1\" class=\"dataframe\">\n",
              "  <thead>\n",
              "    <tr style=\"text-align: right;\">\n",
              "      <th></th>\n",
              "      <th>y</th>\n",
              "      <th>comp-1</th>\n",
              "      <th>comp-2</th>\n",
              "    </tr>\n",
              "  </thead>\n",
              "  <tbody>\n",
              "    <tr>\n",
              "      <th>0</th>\n",
              "      <td>0.0</td>\n",
              "      <td>48.426727</td>\n",
              "      <td>-4.943856</td>\n",
              "    </tr>\n",
              "    <tr>\n",
              "      <th>1</th>\n",
              "      <td>0.0</td>\n",
              "      <td>25.988058</td>\n",
              "      <td>8.075758</td>\n",
              "    </tr>\n",
              "    <tr>\n",
              "      <th>2</th>\n",
              "      <td>0.0</td>\n",
              "      <td>26.467619</td>\n",
              "      <td>-13.915829</td>\n",
              "    </tr>\n",
              "    <tr>\n",
              "      <th>3</th>\n",
              "      <td>0.0</td>\n",
              "      <td>47.464600</td>\n",
              "      <td>-7.076348</td>\n",
              "    </tr>\n",
              "    <tr>\n",
              "      <th>4</th>\n",
              "      <td>0.0</td>\n",
              "      <td>30.704700</td>\n",
              "      <td>16.805761</td>\n",
              "    </tr>\n",
              "    <tr>\n",
              "      <th>...</th>\n",
              "      <td>...</td>\n",
              "      <td>...</td>\n",
              "      <td>...</td>\n",
              "    </tr>\n",
              "    <tr>\n",
              "      <th>1495</th>\n",
              "      <td>2.0</td>\n",
              "      <td>-41.768450</td>\n",
              "      <td>-25.840117</td>\n",
              "    </tr>\n",
              "    <tr>\n",
              "      <th>1496</th>\n",
              "      <td>2.0</td>\n",
              "      <td>-45.698166</td>\n",
              "      <td>-13.518312</td>\n",
              "    </tr>\n",
              "    <tr>\n",
              "      <th>1497</th>\n",
              "      <td>2.0</td>\n",
              "      <td>-34.150350</td>\n",
              "      <td>-13.064112</td>\n",
              "    </tr>\n",
              "    <tr>\n",
              "      <th>1498</th>\n",
              "      <td>2.0</td>\n",
              "      <td>-38.315067</td>\n",
              "      <td>-25.219673</td>\n",
              "    </tr>\n",
              "    <tr>\n",
              "      <th>1499</th>\n",
              "      <td>2.0</td>\n",
              "      <td>-38.815212</td>\n",
              "      <td>-25.774406</td>\n",
              "    </tr>\n",
              "  </tbody>\n",
              "</table>\n",
              "<p>1500 rows × 3 columns</p>\n",
              "</div>\n",
              "      <button class=\"colab-df-convert\" onclick=\"convertToInteractive('df-0feb547f-5de9-4755-866a-53573343cbe0')\"\n",
              "              title=\"Convert this dataframe to an interactive table.\"\n",
              "              style=\"display:none;\">\n",
              "        \n",
              "  <svg xmlns=\"http://www.w3.org/2000/svg\" height=\"24px\"viewBox=\"0 0 24 24\"\n",
              "       width=\"24px\">\n",
              "    <path d=\"M0 0h24v24H0V0z\" fill=\"none\"/>\n",
              "    <path d=\"M18.56 5.44l.94 2.06.94-2.06 2.06-.94-2.06-.94-.94-2.06-.94 2.06-2.06.94zm-11 1L8.5 8.5l.94-2.06 2.06-.94-2.06-.94L8.5 2.5l-.94 2.06-2.06.94zm10 10l.94 2.06.94-2.06 2.06-.94-2.06-.94-.94-2.06-.94 2.06-2.06.94z\"/><path d=\"M17.41 7.96l-1.37-1.37c-.4-.4-.92-.59-1.43-.59-.52 0-1.04.2-1.43.59L10.3 9.45l-7.72 7.72c-.78.78-.78 2.05 0 2.83L4 21.41c.39.39.9.59 1.41.59.51 0 1.02-.2 1.41-.59l7.78-7.78 2.81-2.81c.8-.78.8-2.07 0-2.86zM5.41 20L4 18.59l7.72-7.72 1.47 1.35L5.41 20z\"/>\n",
              "  </svg>\n",
              "      </button>\n",
              "      \n",
              "  <style>\n",
              "    .colab-df-container {\n",
              "      display:flex;\n",
              "      flex-wrap:wrap;\n",
              "      gap: 12px;\n",
              "    }\n",
              "\n",
              "    .colab-df-convert {\n",
              "      background-color: #E8F0FE;\n",
              "      border: none;\n",
              "      border-radius: 50%;\n",
              "      cursor: pointer;\n",
              "      display: none;\n",
              "      fill: #1967D2;\n",
              "      height: 32px;\n",
              "      padding: 0 0 0 0;\n",
              "      width: 32px;\n",
              "    }\n",
              "\n",
              "    .colab-df-convert:hover {\n",
              "      background-color: #E2EBFA;\n",
              "      box-shadow: 0px 1px 2px rgba(60, 64, 67, 0.3), 0px 1px 3px 1px rgba(60, 64, 67, 0.15);\n",
              "      fill: #174EA6;\n",
              "    }\n",
              "\n",
              "    [theme=dark] .colab-df-convert {\n",
              "      background-color: #3B4455;\n",
              "      fill: #D2E3FC;\n",
              "    }\n",
              "\n",
              "    [theme=dark] .colab-df-convert:hover {\n",
              "      background-color: #434B5C;\n",
              "      box-shadow: 0px 1px 3px 1px rgba(0, 0, 0, 0.15);\n",
              "      filter: drop-shadow(0px 1px 2px rgba(0, 0, 0, 0.3));\n",
              "      fill: #FFFFFF;\n",
              "    }\n",
              "  </style>\n",
              "\n",
              "      <script>\n",
              "        const buttonEl =\n",
              "          document.querySelector('#df-0feb547f-5de9-4755-866a-53573343cbe0 button.colab-df-convert');\n",
              "        buttonEl.style.display =\n",
              "          google.colab.kernel.accessAllowed ? 'block' : 'none';\n",
              "\n",
              "        async function convertToInteractive(key) {\n",
              "          const element = document.querySelector('#df-0feb547f-5de9-4755-866a-53573343cbe0');\n",
              "          const dataTable =\n",
              "            await google.colab.kernel.invokeFunction('convertToInteractive',\n",
              "                                                     [key], {});\n",
              "          if (!dataTable) return;\n",
              "\n",
              "          const docLinkHtml = 'Like what you see? Visit the ' +\n",
              "            '<a target=\"_blank\" href=https://colab.research.google.com/notebooks/data_table.ipynb>data table notebook</a>'\n",
              "            + ' to learn more about interactive tables.';\n",
              "          element.innerHTML = '';\n",
              "          dataTable['output_type'] = 'display_data';\n",
              "          await google.colab.output.renderOutput(dataTable, element);\n",
              "          const docLink = document.createElement('div');\n",
              "          docLink.innerHTML = docLinkHtml;\n",
              "          element.appendChild(docLink);\n",
              "        }\n",
              "      </script>\n",
              "    </div>\n",
              "  </div>\n",
              "  "
            ]
          },
          "metadata": {},
          "execution_count": 18
        }
      ]
    },
    {
      "cell_type": "code",
      "source": [
        "df=df.iloc[:,2:]\n",
        "df"
      ],
      "metadata": {
        "colab": {
          "base_uri": "https://localhost:8080/",
          "height": 424
        },
        "id": "JE18kyOEwC26",
        "outputId": "c1ae245b-c5eb-4f8e-f892-4e6a23aad6a5"
      },
      "execution_count": 20,
      "outputs": [
        {
          "output_type": "execute_result",
          "data": {
            "text/plain": [
              "        y     comp-1     comp-2\n",
              "0     0.0  48.426727  -4.943856\n",
              "1     0.0  25.988058   8.075758\n",
              "2     0.0  26.467619 -13.915829\n",
              "3     0.0  47.464600  -7.076348\n",
              "4     0.0  30.704700  16.805761\n",
              "...   ...        ...        ...\n",
              "1495  2.0 -41.768450 -25.840117\n",
              "1496  2.0 -45.698166 -13.518312\n",
              "1497  2.0 -34.150350 -13.064112\n",
              "1498  2.0 -38.315067 -25.219673\n",
              "1499  2.0 -38.815212 -25.774406\n",
              "\n",
              "[1500 rows x 3 columns]"
            ],
            "text/html": [
              "\n",
              "  <div id=\"df-3b49abfa-b15e-40ef-942e-7f0a13bba3b7\">\n",
              "    <div class=\"colab-df-container\">\n",
              "      <div>\n",
              "<style scoped>\n",
              "    .dataframe tbody tr th:only-of-type {\n",
              "        vertical-align: middle;\n",
              "    }\n",
              "\n",
              "    .dataframe tbody tr th {\n",
              "        vertical-align: top;\n",
              "    }\n",
              "\n",
              "    .dataframe thead th {\n",
              "        text-align: right;\n",
              "    }\n",
              "</style>\n",
              "<table border=\"1\" class=\"dataframe\">\n",
              "  <thead>\n",
              "    <tr style=\"text-align: right;\">\n",
              "      <th></th>\n",
              "      <th>y</th>\n",
              "      <th>comp-1</th>\n",
              "      <th>comp-2</th>\n",
              "    </tr>\n",
              "  </thead>\n",
              "  <tbody>\n",
              "    <tr>\n",
              "      <th>0</th>\n",
              "      <td>0.0</td>\n",
              "      <td>48.426727</td>\n",
              "      <td>-4.943856</td>\n",
              "    </tr>\n",
              "    <tr>\n",
              "      <th>1</th>\n",
              "      <td>0.0</td>\n",
              "      <td>25.988058</td>\n",
              "      <td>8.075758</td>\n",
              "    </tr>\n",
              "    <tr>\n",
              "      <th>2</th>\n",
              "      <td>0.0</td>\n",
              "      <td>26.467619</td>\n",
              "      <td>-13.915829</td>\n",
              "    </tr>\n",
              "    <tr>\n",
              "      <th>3</th>\n",
              "      <td>0.0</td>\n",
              "      <td>47.464600</td>\n",
              "      <td>-7.076348</td>\n",
              "    </tr>\n",
              "    <tr>\n",
              "      <th>4</th>\n",
              "      <td>0.0</td>\n",
              "      <td>30.704700</td>\n",
              "      <td>16.805761</td>\n",
              "    </tr>\n",
              "    <tr>\n",
              "      <th>...</th>\n",
              "      <td>...</td>\n",
              "      <td>...</td>\n",
              "      <td>...</td>\n",
              "    </tr>\n",
              "    <tr>\n",
              "      <th>1495</th>\n",
              "      <td>2.0</td>\n",
              "      <td>-41.768450</td>\n",
              "      <td>-25.840117</td>\n",
              "    </tr>\n",
              "    <tr>\n",
              "      <th>1496</th>\n",
              "      <td>2.0</td>\n",
              "      <td>-45.698166</td>\n",
              "      <td>-13.518312</td>\n",
              "    </tr>\n",
              "    <tr>\n",
              "      <th>1497</th>\n",
              "      <td>2.0</td>\n",
              "      <td>-34.150350</td>\n",
              "      <td>-13.064112</td>\n",
              "    </tr>\n",
              "    <tr>\n",
              "      <th>1498</th>\n",
              "      <td>2.0</td>\n",
              "      <td>-38.315067</td>\n",
              "      <td>-25.219673</td>\n",
              "    </tr>\n",
              "    <tr>\n",
              "      <th>1499</th>\n",
              "      <td>2.0</td>\n",
              "      <td>-38.815212</td>\n",
              "      <td>-25.774406</td>\n",
              "    </tr>\n",
              "  </tbody>\n",
              "</table>\n",
              "<p>1500 rows × 3 columns</p>\n",
              "</div>\n",
              "      <button class=\"colab-df-convert\" onclick=\"convertToInteractive('df-3b49abfa-b15e-40ef-942e-7f0a13bba3b7')\"\n",
              "              title=\"Convert this dataframe to an interactive table.\"\n",
              "              style=\"display:none;\">\n",
              "        \n",
              "  <svg xmlns=\"http://www.w3.org/2000/svg\" height=\"24px\"viewBox=\"0 0 24 24\"\n",
              "       width=\"24px\">\n",
              "    <path d=\"M0 0h24v24H0V0z\" fill=\"none\"/>\n",
              "    <path d=\"M18.56 5.44l.94 2.06.94-2.06 2.06-.94-2.06-.94-.94-2.06-.94 2.06-2.06.94zm-11 1L8.5 8.5l.94-2.06 2.06-.94-2.06-.94L8.5 2.5l-.94 2.06-2.06.94zm10 10l.94 2.06.94-2.06 2.06-.94-2.06-.94-.94-2.06-.94 2.06-2.06.94z\"/><path d=\"M17.41 7.96l-1.37-1.37c-.4-.4-.92-.59-1.43-.59-.52 0-1.04.2-1.43.59L10.3 9.45l-7.72 7.72c-.78.78-.78 2.05 0 2.83L4 21.41c.39.39.9.59 1.41.59.51 0 1.02-.2 1.41-.59l7.78-7.78 2.81-2.81c.8-.78.8-2.07 0-2.86zM5.41 20L4 18.59l7.72-7.72 1.47 1.35L5.41 20z\"/>\n",
              "  </svg>\n",
              "      </button>\n",
              "      \n",
              "  <style>\n",
              "    .colab-df-container {\n",
              "      display:flex;\n",
              "      flex-wrap:wrap;\n",
              "      gap: 12px;\n",
              "    }\n",
              "\n",
              "    .colab-df-convert {\n",
              "      background-color: #E8F0FE;\n",
              "      border: none;\n",
              "      border-radius: 50%;\n",
              "      cursor: pointer;\n",
              "      display: none;\n",
              "      fill: #1967D2;\n",
              "      height: 32px;\n",
              "      padding: 0 0 0 0;\n",
              "      width: 32px;\n",
              "    }\n",
              "\n",
              "    .colab-df-convert:hover {\n",
              "      background-color: #E2EBFA;\n",
              "      box-shadow: 0px 1px 2px rgba(60, 64, 67, 0.3), 0px 1px 3px 1px rgba(60, 64, 67, 0.15);\n",
              "      fill: #174EA6;\n",
              "    }\n",
              "\n",
              "    [theme=dark] .colab-df-convert {\n",
              "      background-color: #3B4455;\n",
              "      fill: #D2E3FC;\n",
              "    }\n",
              "\n",
              "    [theme=dark] .colab-df-convert:hover {\n",
              "      background-color: #434B5C;\n",
              "      box-shadow: 0px 1px 3px 1px rgba(0, 0, 0, 0.15);\n",
              "      filter: drop-shadow(0px 1px 2px rgba(0, 0, 0, 0.3));\n",
              "      fill: #FFFFFF;\n",
              "    }\n",
              "  </style>\n",
              "\n",
              "      <script>\n",
              "        const buttonEl =\n",
              "          document.querySelector('#df-3b49abfa-b15e-40ef-942e-7f0a13bba3b7 button.colab-df-convert');\n",
              "        buttonEl.style.display =\n",
              "          google.colab.kernel.accessAllowed ? 'block' : 'none';\n",
              "\n",
              "        async function convertToInteractive(key) {\n",
              "          const element = document.querySelector('#df-3b49abfa-b15e-40ef-942e-7f0a13bba3b7');\n",
              "          const dataTable =\n",
              "            await google.colab.kernel.invokeFunction('convertToInteractive',\n",
              "                                                     [key], {});\n",
              "          if (!dataTable) return;\n",
              "\n",
              "          const docLinkHtml = 'Like what you see? Visit the ' +\n",
              "            '<a target=\"_blank\" href=https://colab.research.google.com/notebooks/data_table.ipynb>data table notebook</a>'\n",
              "            + ' to learn more about interactive tables.';\n",
              "          element.innerHTML = '';\n",
              "          dataTable['output_type'] = 'display_data';\n",
              "          await google.colab.output.renderOutput(dataTable, element);\n",
              "          const docLink = document.createElement('div');\n",
              "          docLink.innerHTML = docLinkHtml;\n",
              "          element.appendChild(docLink);\n",
              "        }\n",
              "      </script>\n",
              "    </div>\n",
              "  </div>\n",
              "  "
            ]
          },
          "metadata": {},
          "execution_count": 20
        }
      ]
    },
    {
      "cell_type": "code",
      "source": [
        "from sklearn.manifold import TSNE\n",
        "from keras.datasets import mnist\n",
        "from sklearn.datasets import load_iris\n",
        "import matplotlib.pyplot as plt\n",
        "from numpy import reshape\n",
        "import seaborn as sns\n",
        "import pandas as pd \n",
        "df=pd.read_csv('/content/drive/MyDrive/ADSC/tsne.csv')\n",
        "# pca = PCA(n_components=2)\n",
        "print(df)\n",
        "for i in range(df.shape[0]):\n",
        "  if df.iloc[i,2]==1:\n",
        "    df.iloc[i,2]='TD attack'\n",
        "  elif df.iloc[i,2]==0:\n",
        "    df.iloc[i,2]='no attack'\n",
        "  elif df.iloc[i,2]==2:\n",
        "    df.iloc[i,2]='FDI attack'\n",
        "df\n",
        "fig, ax = plt.subplots()\n",
        "sns.scatterplot(x=\"comp-1\", y=\"comp-2\", hue=df.y,palette=sns.color_palette(\"hls\", 3),\n",
        "               data=df.iloc[:,1:])\n",
        "handles, labels = ax.get_legend_handles_labels()\n",
        "ax.legend(handles=handles[0:])"
      ],
      "metadata": {
        "colab": {
          "base_uri": "https://localhost:8080/",
          "height": 539
        },
        "id": "DtIo3gbSpfMB",
        "outputId": "75a98a04-0c92-4998-e92d-e4db2488a129"
      },
      "execution_count": 33,
      "outputs": [
        {
          "output_type": "stream",
          "name": "stdout",
          "text": [
            "      Unnamed: 0  Unnamed: 0.1    y     comp-1     comp-2\n",
            "0              0        649666  0.0  48.426727  -4.943856\n",
            "1              1        537651  0.0  25.988058   8.075758\n",
            "2              2        308111  0.0  26.467619 -13.915829\n",
            "3              3        220065  0.0  47.464600  -7.076348\n",
            "4              4        491796  0.0  30.704700  16.805761\n",
            "...          ...           ...  ...        ...        ...\n",
            "1495        1495         18359  2.0 -41.768450 -25.840117\n",
            "1496        1496         65146  2.0 -45.698166 -13.518312\n",
            "1497        1497        182408  2.0 -34.150350 -13.064112\n",
            "1498        1498         92963  2.0 -38.315067 -25.219673\n",
            "1499        1499          4986  2.0 -38.815212 -25.774406\n",
            "\n",
            "[1500 rows x 5 columns]\n"
          ]
        },
        {
          "output_type": "execute_result",
          "data": {
            "text/plain": [
              "<matplotlib.legend.Legend at 0x7f17f3a13890>"
            ]
          },
          "metadata": {},
          "execution_count": 33
        },
        {
          "output_type": "display_data",
          "data": {
            "text/plain": [
              "<Figure size 432x288 with 1 Axes>"
            ],
            "image/png": "[encoded data removed]"
          },
          "metadata": {
            "needs_background": "light"
          }
        }
      ]
    },
    {
      "cell_type": "code",
      "source": [
        "from sklearn.manifold import TSNE\n",
        "from keras.datasets import mnist\n",
        "from sklearn.datasets import load_iris\n",
        "from numpy import reshape\n",
        "import seaborn as sns\n",
        "import pandas as pd \n",
        "df=pd.read_csv('/content/drive/MyDrive/ADSC/pca.csv')\n",
        "# pca = PCA(n_components=2)\n",
        "\n",
        "\n",
        "sns.scatterplot(x=\"comp-1\", y=\"comp-2\", hue=df.y.tolist(),\n",
        "                palette=sns.color_palette(\"hls\", 3),data=df)"
      ],
      "metadata": {
        "colab": {
          "base_uri": "https://localhost:8080/",
          "height": 296
        },
        "id": "Vo4m_gGIs5b7",
        "outputId": "863887c6-4d3d-4f37-e50e-b986ea94f1cf"
      },
      "execution_count": null,
      "outputs": [
        {
          "output_type": "execute_result",
          "data": {
            "text/plain": [
              "<matplotlib.axes._subplots.AxesSubplot at 0x7f5539970dd0>"
            ]
          },
          "metadata": {},
          "execution_count": 13
        },
        {
          "output_type": "display_data",
          "data": {
            "text/plain": [
              "<Figure size 432x288 with 1 Axes>"
            ],
            "image/png": "[encoded data removed]"
          },
          "metadata": {
            "needs_background": "light"
          }
        }
      ]
    }
  ]
}